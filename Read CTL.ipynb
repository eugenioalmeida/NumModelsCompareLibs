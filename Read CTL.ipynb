{
 "cells": [
  {
   "cell_type": "markdown",
   "metadata": {},
   "source": [
    "# Notebook to read CTL Files"
   ]
  },
  {
   "cell_type": "markdown",
   "metadata": {},
   "source": [
    "## The files were read using RegEx and other methods"
   ]
  },
  {
   "cell_type": "markdown",
   "metadata": {},
   "source": [
    "The Notebook is divided in functions that use RegEx to read some ctl files"
   ]
  },
  {
   "cell_type": "code",
   "execution_count": 1,
   "metadata": {},
   "outputs": [],
   "source": [
    "import re\n",
    "\n",
    "# Basepath for the file\n",
    "CTL_PATH = r'GPOSNMC20170906122017090612P.inz.TQ0666L064.ctl'\n",
    "\n",
    "# Open the file\n",
    "ctl = open(CTL_PATH)\n",
    "# conteudo = ctl.read()\n",
    "# print(conteudo)"
   ]
  },
  {
   "cell_type": "markdown",
   "metadata": {},
   "source": [
    "The function below is to get the amount of points in the 'xyt' axis\n",
    "\n",
    "1. x = points in longitude\n",
    "2. y = points in latitude\n",
    "3. t = how many values of time"
   ]
  },
  {
   "cell_type": "code",
   "execution_count": 2,
   "metadata": {},
   "outputs": [
    {
     "data": {
      "text/plain": [
       "[2000, 1000, 1]"
      ]
     },
     "execution_count": 2,
     "metadata": {},
     "output_type": "execute_result"
    }
   ],
   "source": [
    "def get_xyt(ctl_file):\n",
    "    ctl_file.seek(0)\n",
    "    content = ctl_file.read()\n",
    "    \n",
    "    # Pattern to get the xyt vars\n",
    "    pattern = re.compile(r'\\d+(?=\\slinear)')\n",
    "    matches = pattern.finditer(content)\n",
    "    \n",
    "    # List to store the values\n",
    "    xyt = []\n",
    "    \n",
    "    for m in matches:\n",
    "        xyt.append(int(m.group()))\n",
    "    \n",
    "    return xyt\n",
    "\n",
    "xyt = get_xyt(ctl)\n",
    "xyt"
   ]
  },
  {
   "cell_type": "code",
   "execution_count": 3,
   "metadata": {},
   "outputs": [
    {
     "data": {
      "text/plain": [
       "'33'"
      ]
     },
     "execution_count": 3,
     "metadata": {},
     "output_type": "execute_result"
    }
   ],
   "source": [
    "# Get the total levels that the file works\n",
    "# These are pressure levels...how many pressure levels is the var gonna have?\n",
    "def get_total_levels(ctl_file):\n",
    "    ctl_file.seek(0)\n",
    "    ctl_content = ctl_file.read()\n",
    "    # (?<=zdef\\s{4})\\d+ --> wrong\n",
    "    pattern = re.compile(r\"(?<=zdef\\s{4})\\d+\")\n",
    "    matches = pattern.search(ctl_content)\n",
    "\n",
    "    return matches.group()\n",
    "\n",
    "tot_levels = get_total_levels(ctl)\n",
    "tot_levels"
   ]
  },
  {
   "cell_type": "code",
   "execution_count": 4,
   "metadata": {},
   "outputs": [
    {
     "data": {
      "text/plain": [
       "'30'"
      ]
     },
     "execution_count": 4,
     "metadata": {},
     "output_type": "execute_result"
    }
   ],
   "source": [
    "# Get the total number of meteorological variables in the file\n",
    "def get_total_vars(ctl_file):\n",
    "    ctl_file.seek(0)\n",
    "    ctl_content = ctl_file.read()\n",
    "    \n",
    "    # RegEx pattern to get the vars.\n",
    "    pattern = re.compile(r\"(?<=vars(\\s{4}))\\d+\")\n",
    "    match = pattern.search(ctl_content)\n",
    "    return match.group()\n",
    "\n",
    "tot = get_total_vars(ctl)\n",
    "tot"
   ]
  },
  {
   "cell_type": "code",
   "execution_count": 5,
   "metadata": {},
   "outputs": [
    {
     "data": {
      "text/plain": [
       "'GPOSNMC20170906122017090612P.inz.TQ0666L064.grb'"
      ]
     },
     "execution_count": 5,
     "metadata": {},
     "output_type": "execute_result"
    }
   ],
   "source": [
    "# This function is to get the correspondent grib file that the ctl is related to.\n",
    "def get_file_name(ctl_file):\n",
    "    ctl_file.seek(0)\n",
    "    ctl_content = ctl_file.read()\n",
    "    pattern = re.compile(r'(?<=dset\\s\\^)[A-Za-z0-9]+\\.?(fct|icn|inz)?\\.?[a-zA-Z0-9]*\\.(grb|grib2)')\n",
    "    match = pattern.search(ctl_content)\n",
    "    return match.group()\n",
    "\n",
    "dset_grib = get_file_name(ctl)\n",
    "dset_grib"
   ]
  },
  {
   "cell_type": "code",
   "execution_count": 6,
   "metadata": {},
   "outputs": [
    {
     "data": {
      "text/plain": [
       "{'lat_dist': '0.1800000000',\n",
       " 'lat_start': '-89.910',\n",
       " 'lon_dist': '0.1800000000',\n",
       " 'lon_start': '0.000'}"
      ]
     },
     "execution_count": 6,
     "metadata": {},
     "output_type": "execute_result"
    }
   ],
   "source": [
    "# Function to get the starting point in lats and lons.\n",
    "# It also returns the spacing between each point.\n",
    "def get_space_latlons(ctl_file):\n",
    "    ctl_file.seek(0)\n",
    "    ctl_content = ctl_file.read()\n",
    "    \n",
    "    # Pattern to get the starting and spacing\n",
    "    pattern = re.compile(r'[-+]?[0-9]+\\.\\d{3,10}')\n",
    "    matches = pattern.finditer(ctl_content)\n",
    "\n",
    "    keys = ['lon_start', 'lon_dist', 'lat_start', 'lat_dist']\n",
    "    values = []\n",
    "    info = {}\n",
    "\n",
    "    values = [m.group() for m in matches]\n",
    "    \n",
    "    # Make a dict with the values\n",
    "    for i, j in enumerate(keys):\n",
    "        info[j] = values[i]\n",
    "\n",
    "    return info\n",
    "\n",
    "info_about_coords = get_space_latlons(ctl)\n",
    "info_about_coords"
   ]
  },
  {
   "cell_type": "markdown",
   "metadata": {},
   "source": [
    "The next function is meant to return the units of the variables. It's kind of working, but no properly."
   ]
  },
  {
   "cell_type": "code",
   "execution_count": 10,
   "metadata": {},
   "outputs": [
    {
     "name": "stdout",
     "output_type": "stream",
     "text": [
      "m\n",
      "0,1\n",
      "HPA            \n",
      "M/S            \n",
      "M/S            \n",
      "M/S            \n",
      "M/S            \n",
      "PA/S           \n",
      "1/S            \n",
      "M2/S           \n",
      "M2/S           \n",
      "GPM            \n",
      "HPA            \n",
      "K              \n",
      "K              \n",
      "NO DIM         \n",
      "NO DIM         \n",
      "KG/KG          \n",
      "KG/M2          \n",
      "K              \n",
      "K              \n",
      "0-1            \n",
      "0-1            \n",
      "0-1            \n",
      "K              \n",
      "KG/KG          \n",
      "g/m**3         \n",
      "KG/KG          \n",
      "KG/KG          \n",
      "%              \n"
     ]
    }
   ],
   "source": [
    "def get_vars_units(ctl_file):\n",
    "    units = []\n",
    "    ctl_file.seek(0)\n",
    "    ctl_content = ctl_file.read()\n",
    "    pattern = re.compile(r'(?<=(\\(|\\[))[A-Za-z*0-9,\\%/-]*\\s?[A-Za-z*0-9,\\%/-]*(\\s+|\\])\\W')\n",
    "    matches = pattern.finditer(ctl_content)\n",
    "\n",
    "    for m in matches:\n",
    "        print(m.group()[:-2])\n",
    "\n",
    "get_vars_units(ctl)"
   ]
  },
  {
   "cell_type": "markdown",
   "metadata": {},
   "source": []
  },
  {
   "cell_type": "code",
   "execution_count": 11,
   "metadata": {},
   "outputs": [
    {
     "name": "stdout",
     "output_type": "stream",
     "text": [
      "SURFACE PRESSURE                        \n",
      "SURFACE ZONAL WIND (U)                  \n",
      "ZONAL WIND (U)                          \n",
      "SURFACE MERIDIONAL WIND (V)             \n",
      "MERIDIONAL WIND (V)                     \n",
      "OMEGA                                   \n",
      "VORTICITY                               \n",
      "STREAM FUNCTION                         \n",
      "VELOCITY POTENTIAL                      \n",
      "GEOPOTENTIAL HEIGHT                     \n",
      "SEA LEVEL PRESSURE                      \n",
      "SURFACE ABSOLUTE TEMPERATURE            \n",
      "ABSOLUTE TEMPERATURE                    \n",
      "SURFACE RELATIVE HUMIDITY               \n",
      "RELATIVE HUMIDITY                       \n",
      "SPECIFIC HUMIDITY                       \n",
      "INST. PRECIPITABLE WATER                \n",
      "SURFACE TEMPERATURE                     \n",
      "DEEP SOIL TEMPERATURE                   \n",
      "SOIL WETNESS OF SURFACE                 \n",
      "SOIL WETNESS OF ROOT ZONE               \n",
      "SOIL WETNESS OF DRAINAGE ZONE           \n",
      "TEMPERATURE AT 2-M FROM SURFACE         \n",
      "SPECIFIC HUMIDITY AT 2-M FROM SURFACE   \n",
      "PARTIAL OXYGEN DENSITY                  \n",
      "ICE MIXING RATIO PROGNOSTIC             \n",
      "LIQ MIXING RATIO PROGNOSTIC             \n",
      "CLOUD TOTAL PROGNOSTIC                  \n",
      "\n"
     ]
    }
   ],
   "source": [
    "def get_start_end_vars(ctl_file):\n",
    "    ctl_file.seek(0)\n",
    "    start, end = 0, 0 \n",
    "    for no, line in enumerate(ctl_file):\n",
    "        if line[:4] == 'vars':\n",
    "            # Add 1 because it starts at 0\n",
    "            start = no + 1\n",
    "        if line[:7] == 'endvars':\n",
    "            end = no + 1\n",
    "\n",
    "    return start, end\n",
    "\n",
    "def get_name_vars(ctl_file, start_line, end_line):\n",
    "    ctl_file.seek(0)\n",
    "    var_list = []\n",
    "    for n, l in enumerate(ctl_file):\n",
    "        if n > start_line + 1 and n < end_line:\n",
    "            var = l[38:78]\n",
    "            var_list.append(var)\n",
    "\n",
    "    return var_list\n",
    "\n",
    "# Get the first 2 vars in the ctl file\n",
    "# They are pattern variables and never change\n",
    "# Consider them\n",
    "def get_two_vars(ctl_file):\n",
    "    pattern = re.compile(r'surface\\s[A-Z]*\\s?[A-Z]*\\s?[A-Z]*')\n",
    "    matches = pattern.finditer(ctl_file)\n",
    "    var = []\n",
    "    for m in matches:\n",
    "        var.append(m.group().strip())\n",
    "    return var\n",
    "\n",
    "start, end = get_start_end_vars(ctl)\n",
    "grib_vars = get_name_vars(ctl, start, end)\n",
    "for v in grib_vars:\n",
    "    print(v)"
   ]
  },
  {
   "cell_type": "code",
   "execution_count": null,
   "metadata": {
    "collapsed": true
   },
   "outputs": [],
   "source": []
  }
 ],
 "metadata": {
  "kernelspec": {
   "display_name": "Python 2",
   "language": "python",
   "name": "python2"
  },
  "language_info": {
   "codemirror_mode": {
    "name": "ipython",
    "version": 2
   },
   "file_extension": ".py",
   "mimetype": "text/x-python",
   "name": "python",
   "nbconvert_exporter": "python",
   "pygments_lexer": "ipython2",
   "version": "2.7.13"
  }
 },
 "nbformat": 4,
 "nbformat_minor": 2
}
